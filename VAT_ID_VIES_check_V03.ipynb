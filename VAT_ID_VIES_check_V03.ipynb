{
 "cells": [
  {
   "cell_type": "code",
   "execution_count": 1,
   "metadata": {},
   "outputs": [],
   "source": [
    "# importing modules"
   ]
  },
  {
   "cell_type": "code",
   "execution_count": 2,
   "metadata": {},
   "outputs": [],
   "source": [
    "import pandas as pd\n",
    "import numpy as np\n",
    "import vat\n",
    "from datetime import datetime as dt"
   ]
  },
  {
   "cell_type": "code",
   "execution_count": null,
   "metadata": {},
   "outputs": [],
   "source": []
  },
  {
   "cell_type": "code",
   "execution_count": 3,
   "metadata": {},
   "outputs": [],
   "source": [
    "# set major variables"
   ]
  },
  {
   "cell_type": "code",
   "execution_count": null,
   "metadata": {},
   "outputs": [],
   "source": []
  },
  {
   "cell_type": "code",
   "execution_count": 4,
   "metadata": {},
   "outputs": [],
   "source": [
    "# import data"
   ]
  },
  {
   "cell_type": "code",
   "execution_count": 5,
   "metadata": {},
   "outputs": [],
   "source": [
    "# Read IMPORT file with UNIQUE VAT-IDs to check\n",
    "# (from IC dispatch sheet of CZ-VAT-Reporting)\n",
    "xlsx_imp = pd.ExcelFile('test_vatid_xmlrpc_input.xlsx')\n",
    "df_VAT_IDS = pd.read_excel(xlsx_imp, 'VAT_IDS')"
   ]
  },
  {
   "cell_type": "code",
   "execution_count": 6,
   "metadata": {},
   "outputs": [
    {
     "data": {
      "text/html": [
       "<div>\n",
       "<style scoped>\n",
       "    .dataframe tbody tr th:only-of-type {\n",
       "        vertical-align: middle;\n",
       "    }\n",
       "\n",
       "    .dataframe tbody tr th {\n",
       "        vertical-align: top;\n",
       "    }\n",
       "\n",
       "    .dataframe thead th {\n",
       "        text-align: right;\n",
       "    }\n",
       "</style>\n",
       "<table border=\"1\" class=\"dataframe\">\n",
       "  <thead>\n",
       "    <tr style=\"text-align: right;\">\n",
       "      <th></th>\n",
       "      <th>VAT_ID_OWN</th>\n",
       "      <th>VAT_ID_COUNTERPART</th>\n",
       "    </tr>\n",
       "  </thead>\n",
       "  <tbody>\n",
       "    <tr>\n",
       "      <th>0</th>\n",
       "      <td>DE161045541</td>\n",
       "      <td>ATU14762808</td>\n",
       "    </tr>\n",
       "    <tr>\n",
       "      <th>1</th>\n",
       "      <td>DE161045541</td>\n",
       "      <td>ATU14765208</td>\n",
       "    </tr>\n",
       "    <tr>\n",
       "      <th>2</th>\n",
       "      <td>DE161045541</td>\n",
       "      <td>ATU19417101</td>\n",
       "    </tr>\n",
       "    <tr>\n",
       "      <th>3</th>\n",
       "      <td>DE161045541</td>\n",
       "      <td>ATU19417806</td>\n",
       "    </tr>\n",
       "    <tr>\n",
       "      <th>4</th>\n",
       "      <td>DE161045541</td>\n",
       "      <td>ATU19426903</td>\n",
       "    </tr>\n",
       "  </tbody>\n",
       "</table>\n",
       "</div>"
      ],
      "text/plain": [
       "    VAT_ID_OWN VAT_ID_COUNTERPART\n",
       "0  DE161045541        ATU14762808\n",
       "1  DE161045541        ATU14765208\n",
       "2  DE161045541        ATU19417101\n",
       "3  DE161045541        ATU19417806\n",
       "4  DE161045541        ATU19426903"
      ]
     },
     "execution_count": 6,
     "metadata": {},
     "output_type": "execute_result"
    }
   ],
   "source": [
    "df_VAT_IDS.head(5)"
   ]
  },
  {
   "cell_type": "code",
   "execution_count": null,
   "metadata": {},
   "outputs": [],
   "source": []
  },
  {
   "cell_type": "code",
   "execution_count": null,
   "metadata": {},
   "outputs": [],
   "source": []
  },
  {
   "cell_type": "code",
   "execution_count": 7,
   "metadata": {},
   "outputs": [],
   "source": [
    "# initiate empty output data frame with retrieved structure\n",
    "l_keys = ['REQ_DATE', 'VAT_ID_request', 'country_ret', 'VAT_ID_ret', 'valid', 'name', 'address']\n",
    "df_out = pd.DataFrame(columns = l_keys)\n",
    "# df_out.head(5)"
   ]
  },
  {
   "cell_type": "code",
   "execution_count": null,
   "metadata": {},
   "outputs": [],
   "source": []
  },
  {
   "cell_type": "code",
   "execution_count": 8,
   "metadata": {},
   "outputs": [],
   "source": [
    "# MAIN FUNCTIONAL LOOP\n",
    "# getting responses for ALL VAT-IDs from input file and write VIES-responses\n",
    "# to df_out data frame\n",
    "\n",
    "for index, r in df_VAT_IDS.iterrows():\n",
    "    \n",
    "    # core request: get response object for counterpart VAT-ID that needs to be confirmed\n",
    "    o_resp = vat.vies.check_vat(r.VAT_ID_COUNTERPART) # loop index\n",
    "    \n",
    "    # core code to transform request response to row that is\n",
    "    # appended to output data frame df_out\n",
    "\n",
    "    l_values = o_resp.request_date.strftime(\"%y_%m_%d\").split(\"§\") # .split to transform str directly to list !\n",
    "    l_values.append(r.VAT_ID_COUNTERPART) # loop index \n",
    "    l_values.append(o_resp.country)\n",
    "    l_values.append(o_resp.vat_number)\n",
    "    l_values.append(o_resp.valid)\n",
    "    l_values.append(o_resp.name)\n",
    "    l_values.append(o_resp.address)\n",
    "\n",
    "    # zipping key and value lists to dictionary and append as new row to df_out\n",
    "    d_resp = dict(zip(l_keys, l_values))\n",
    "    # print(d_response)\n",
    "    df_out = df_out.append(d_resp, ignore_index = True)\n"
   ]
  },
  {
   "cell_type": "code",
   "execution_count": 9,
   "metadata": {
    "scrolled": true
   },
   "outputs": [
    {
     "data": {
      "text/html": [
       "<div>\n",
       "<style scoped>\n",
       "    .dataframe tbody tr th:only-of-type {\n",
       "        vertical-align: middle;\n",
       "    }\n",
       "\n",
       "    .dataframe tbody tr th {\n",
       "        vertical-align: top;\n",
       "    }\n",
       "\n",
       "    .dataframe thead th {\n",
       "        text-align: right;\n",
       "    }\n",
       "</style>\n",
       "<table border=\"1\" class=\"dataframe\">\n",
       "  <thead>\n",
       "    <tr style=\"text-align: right;\">\n",
       "      <th></th>\n",
       "      <th>REQ_DATE</th>\n",
       "      <th>VAT_ID_request</th>\n",
       "      <th>country_ret</th>\n",
       "      <th>VAT_ID_ret</th>\n",
       "      <th>valid</th>\n",
       "      <th>name</th>\n",
       "      <th>address</th>\n",
       "    </tr>\n",
       "  </thead>\n",
       "  <tbody>\n",
       "    <tr>\n",
       "      <th>0</th>\n",
       "      <td>19_12_11</td>\n",
       "      <td>ATU14762808</td>\n",
       "      <td>AT</td>\n",
       "      <td>U14762808</td>\n",
       "      <td>True</td>\n",
       "      <td>MEDIA MARKT TV-Hifi-Elektro Wien XI Gesellscha...</td>\n",
       "      <td>Landwehrstraße 6\\nAT-1110 Wien</td>\n",
       "    </tr>\n",
       "    <tr>\n",
       "      <th>1</th>\n",
       "      <td>19_12_11</td>\n",
       "      <td>ATU14765208</td>\n",
       "      <td>AT</td>\n",
       "      <td>U14765208</td>\n",
       "      <td>True</td>\n",
       "      <td>MEDIA MARKT TV-Hifi-Elektro Wien XXI Gesellsch...</td>\n",
       "      <td>Brünner Straße 72A\\nAT-1210 Wien</td>\n",
       "    </tr>\n",
       "    <tr>\n",
       "      <th>2</th>\n",
       "      <td>19_12_11</td>\n",
       "      <td>ATU19417101</td>\n",
       "      <td>AT</td>\n",
       "      <td>U19417101</td>\n",
       "      <td>True</td>\n",
       "      <td>Media - Saturn Beteiligungsges.m.b.H.</td>\n",
       "      <td>SCS-Buerocenter/B 2\\nAT-2334 Vösendorf</td>\n",
       "    </tr>\n",
       "    <tr>\n",
       "      <th>3</th>\n",
       "      <td>19_12_11</td>\n",
       "      <td>ATU19417806</td>\n",
       "      <td>AT</td>\n",
       "      <td>U19417806</td>\n",
       "      <td>True</td>\n",
       "      <td>MEDIA MARKT TV-Hifi-Elektro Gesellschaft m.b.H.</td>\n",
       "      <td>SCS Nordring\\nAT-2334 Vösendorf</td>\n",
       "    </tr>\n",
       "    <tr>\n",
       "      <th>4</th>\n",
       "      <td>19_12_11</td>\n",
       "      <td>ATU19426903</td>\n",
       "      <td>AT</td>\n",
       "      <td>U19426903</td>\n",
       "      <td>True</td>\n",
       "      <td>MEDIA MARKT TV-Hifi-Elektro Gesellschaft m.b.H.</td>\n",
       "      <td>SC Seiersberg 9/T 6/3\\nAT-8054 Seiersberg</td>\n",
       "    </tr>\n",
       "  </tbody>\n",
       "</table>\n",
       "</div>"
      ],
      "text/plain": [
       "   REQ_DATE VAT_ID_request country_ret VAT_ID_ret valid  \\\n",
       "0  19_12_11    ATU14762808          AT  U14762808  True   \n",
       "1  19_12_11    ATU14765208          AT  U14765208  True   \n",
       "2  19_12_11    ATU19417101          AT  U19417101  True   \n",
       "3  19_12_11    ATU19417806          AT  U19417806  True   \n",
       "4  19_12_11    ATU19426903          AT  U19426903  True   \n",
       "\n",
       "                                                name  \\\n",
       "0  MEDIA MARKT TV-Hifi-Elektro Wien XI Gesellscha...   \n",
       "1  MEDIA MARKT TV-Hifi-Elektro Wien XXI Gesellsch...   \n",
       "2              Media - Saturn Beteiligungsges.m.b.H.   \n",
       "3    MEDIA MARKT TV-Hifi-Elektro Gesellschaft m.b.H.   \n",
       "4    MEDIA MARKT TV-Hifi-Elektro Gesellschaft m.b.H.   \n",
       "\n",
       "                                     address  \n",
       "0             Landwehrstraße 6\\nAT-1110 Wien  \n",
       "1           Brünner Straße 72A\\nAT-1210 Wien  \n",
       "2     SCS-Buerocenter/B 2\\nAT-2334 Vösendorf  \n",
       "3            SCS Nordring\\nAT-2334 Vösendorf  \n",
       "4  SC Seiersberg 9/T 6/3\\nAT-8054 Seiersberg  "
      ]
     },
     "execution_count": 9,
     "metadata": {},
     "output_type": "execute_result"
    }
   ],
   "source": [
    "df_out.head(5)"
   ]
  },
  {
   "cell_type": "code",
   "execution_count": 10,
   "metadata": {},
   "outputs": [
    {
     "data": {
      "text/plain": [
       "512"
      ]
     },
     "execution_count": 10,
     "metadata": {},
     "output_type": "execute_result"
    }
   ],
   "source": [
    "len(df_out)"
   ]
  },
  {
   "cell_type": "code",
   "execution_count": 11,
   "metadata": {},
   "outputs": [],
   "source": [
    "writer = pd.ExcelWriter('_VIES_VAT_ID_verification.xlsx', engine='xlsxwriter')\n",
    "df_out.to_excel(writer, sheet_name='VIES_responses', engine='xlsxwriter')\n",
    "writer.save()"
   ]
  },
  {
   "cell_type": "code",
   "execution_count": null,
   "metadata": {},
   "outputs": [],
   "source": []
  }
 ],
 "metadata": {
  "kernelspec": {
   "display_name": "Python 3",
   "language": "python",
   "name": "python3"
  },
  "language_info": {
   "codemirror_mode": {
    "name": "ipython",
    "version": 3
   },
   "file_extension": ".py",
   "mimetype": "text/x-python",
   "name": "python",
   "nbconvert_exporter": "python",
   "pygments_lexer": "ipython3",
   "version": "3.7.3"
  }
 },
 "nbformat": 4,
 "nbformat_minor": 2
}
